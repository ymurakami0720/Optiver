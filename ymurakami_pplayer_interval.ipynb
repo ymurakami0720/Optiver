{
 "cells": [
  {
   "cell_type": "markdown",
   "id": "necessary-plumbing",
   "metadata": {},
   "source": [
    "# Optiver p-player interval-selection game\n",
    "\n",
    "Original problem statement: Three players A, B, C play the following game. First, A picks a real number between 0 and 1 (both inclusive), then B picks a number in the same range (different from A’s choice) and finally C picks a number, also in the same range, (different from the two chosen numbers). We then pick a number in the range uniformly randomly. Whoever’s number is closest to this random number wins the game. Assume that A, B and C all play optimally and their sole goal is to maximise their chances of winning. Also assume that if one of them has several optimal choices, then that player will randomly pick one of the optimal choices.\n",
    "\n",
    "This ipynb file gives an algorithm for computing the optimal choice for player i in a p-player game (for i ≠ 0, we assume to know the choice of players 0, 1, ..., i-1).\n",
    "This ipynb file should be read in conjunction with the submitted puzzle solution, as the technical details are explained therein.\n",
    "\n",
    "We shall refer to the players as players 0, 1, 2, ..., p-1. Player 0 makes their selection first, player 1 second, and so forth.\n",
    "Throughout this document, we shall use n to denote the discretization of the interval [0,1], where we work in the discrete interval {0, 1, ..., n-1}.\n",
    "In what follows, the 'adjusted values' refer to the values chosen by players, divided by n-1 so that the choices are mapped back to the [0,1] interval. For example, if player 0 chooses the value 4 for n = 10, their adjusted value is 4/9 = 0.44."
   ]
  },
  {
   "cell_type": "code",
   "execution_count": 1,
   "id": "civilian-general",
   "metadata": {
    "scrolled": true
   },
   "outputs": [],
   "source": [
    "import numpy as np\n",
    "from operator import add"
   ]
  },
  {
   "cell_type": "markdown",
   "id": "million-blind",
   "metadata": {},
   "source": [
    "# Computing probabilities\n",
    "\n",
    "As a starting point, we require a function that computes the win probability of each player if their choices are known."
   ]
  },
  {
   "cell_type": "code",
   "execution_count": 2,
   "id": "sublime-opera",
   "metadata": {},
   "outputs": [],
   "source": [
    "def compute_probabilities(choices, n):\n",
    "    \"\"\"\n",
    "    Returns the win probability of each player given their choices and the interval discretization.\n",
    "    Note that the function can take inputs for any number of players.\n",
    "    \n",
    "    Inputs:\n",
    "    :param choices: A list of player choices. Each number in the list must be distinct, and they must \n",
    "                    fall in the range from 0 to n-1. Index i of the list corresponds to the choice of player i.\n",
    "    :param n: The discretization of the interval [0,1] into {0,1,...,n-1}.\n",
    "    \n",
    "    Output:\n",
    "    A list of player win probabilities, with the index i of the list corresponding to player i.\n",
    "    \"\"\"\n",
    "    \n",
    "    # Initialize the probability list.\n",
    "    probabilities = [0]*len(choices)\n",
    "    \n",
    "    # A list of players (in integers) ordered by increasing choices.\n",
    "    # The list describes how the players would be ordered in the interval {0,1,...,n-1}.\n",
    "    sorted_choices = sorted(range(len(choices)), key=lambda k:choices[k])\n",
    "    \n",
    "    for i in range(len(choices)):\n",
    "        # For every player i:\n",
    "        if sorted_choices.index(i) == 0:\n",
    "            # if player i chose the smallest number, their win probability is decided by their one neighbour.\n",
    "            probabilities[i] = (choices[i] + ((choices[sorted_choices[1]] - choices[i]) / 2))/(n-1)\n",
    "        elif sorted_choices.index(i) == len(choices)-1:\n",
    "            # else if player i chose the largest number, their win probability is decided by their one neighbour.\n",
    "            probabilities[i] = (n-1 - choices[i] + ((choices[i] - choices[sorted_choices[-2]]) / 2))/(n-1)\n",
    "        else:\n",
    "            # else their win probability is decided by their two neighbours.\n",
    "            probabilities[i] = ((choices[sorted_choices[sorted_choices.index(i)+1]] \n",
    "                                 - choices[sorted_choices[sorted_choices.index(i)-1]])/2)/(n-1)\n",
    "            \n",
    "    return probabilities"
   ]
  },
  {
   "cell_type": "code",
   "execution_count": 3,
   "id": "underlying-mistake",
   "metadata": {},
   "outputs": [
    {
     "name": "stdout",
     "output_type": "stream",
     "text": [
      "Discretization value (n)\t\t\t: 10\n",
      "Number of players (p)\t\t\t\t: 4\n",
      "Values chosen by players in [0, 1, 2, 3]\t: [6, 2, 7, 4]\n",
      "Adjusted chosen values\t\t\t\t: [0.67, 0.22, 0.78, 0.44]\n",
      "\n",
      "Win probability of player 0\t\t\t: 0.17\n",
      "Win probability of player 1\t\t\t: 0.33\n",
      "Win probability of player 2\t\t\t: 0.28\n",
      "Win probability of player 3\t\t\t: 0.22\n"
     ]
    }
   ],
   "source": [
    "n = 10\n",
    "choices = [6, 2, 7, 4]\n",
    "adjusted_choices = [round((x/(n-1)), 2) for x in choices]\n",
    "\n",
    "print(f'Discretization value (n)\\t\\t\\t: {n}')\n",
    "print(f'Number of players (p)\\t\\t\\t\\t: {len(choices)}')\n",
    "print(f'Values chosen by players in {[x for x in range(len(choices))]}\\t: {choices}')\n",
    "print(f'Adjusted chosen values\\t\\t\\t\\t: {adjusted_choices}\\n')\n",
    "\n",
    "probabilities = compute_probabilities(choices, n)\n",
    "\n",
    "for i, probability in enumerate(probabilities):\n",
    "    print(f'Win probability of player {i}\\t\\t\\t: {probability:.2f}')"
   ]
  },
  {
   "cell_type": "markdown",
   "id": "naughty-nurse",
   "metadata": {},
   "source": [
    "# Calculating expected win probability when faced with multiple optimal choices\n",
    "\n",
    "Players choose their values uniform randomly when faced with multiple optimal choices. This means that player i's expected win probability depends on player j's choices for all j > i. \n",
    "Therefore, faced with multiple choices, we need a function that calculates the expected win probability for all players.\n",
    "The following function calculates the component-wise average for a given list of lists."
   ]
  },
  {
   "cell_type": "code",
   "execution_count": 4,
   "id": "talented-mexico",
   "metadata": {},
   "outputs": [],
   "source": [
    "def average_sum_of_lists(scores):\n",
    "    '''\n",
    "    Returns the component-wise average for a given list of lists.\n",
    "    \n",
    "    Inputs:\n",
    "    :param scores: A list of lists, where each nested list is of the same size, and contain float elements.\n",
    "    \n",
    "    Output:\n",
    "    A list whose i'th element is the mean of the i'th elements within the input nested lists.\n",
    "    '''\n",
    "    \n",
    "    # Initialize the output list.\n",
    "    average = [0]*len(scores[0])\n",
    "\n",
    "    # Adds every nested list in scores component-wise.\n",
    "    for item in scores:\n",
    "        average = list(map(add, average, item))\n",
    "        \n",
    "    # Take the mean of all elements in the list average, by dividing by the number of nested lists of input. \n",
    "    average = [number / len(scores) for number in average]\n",
    "    return average"
   ]
  },
  {
   "cell_type": "code",
   "execution_count": 5,
   "id": "secret-information",
   "metadata": {
    "scrolled": true
   },
   "outputs": [
    {
     "name": "stdout",
     "output_type": "stream",
     "text": [
      "Input\t : [[0.06, 0.39, 0.27, 0.28], [0.11, 0.39, 0.22, 0.28], [0.17, 0.39, 0.16, 0.28], [0.22, 0.39, 0.11, 0.28]]\n",
      "Output\t : [0.14, 0.39, 0.19, 0.28]\n"
     ]
    }
   ],
   "source": [
    "scores = [[0.06, 0.39, 0.27, 0.28], [0.11, 0.39, 0.22, 0.28], [0.17, 0.39, 0.16, 0.28], [0.22, 0.39, 0.11, 0.28]]\n",
    "average_scores = average_sum_of_lists(scores)\n",
    "\n",
    "print(f'Input\\t : {scores}')\n",
    "print(f'Output\\t : {[round(item, 2) for item in average_scores]}')"
   ]
  },
  {
   "cell_type": "markdown",
   "id": "charitable-klein",
   "metadata": {},
   "source": [
    "# Computing the expected win probability\n",
    "\n",
    "We now have the required ingredients to compute the expected win probability for each player. \n",
    "The following function returns the optimal choice of player i in a p player interval selection game, given the choices of players 0, 1, ..., i (for our purposes, we are interested in the case p = 4, but more on this later).\n",
    "\n",
    "The following recursive function creates a new branch for every possible choice that players can make, thereby constructing a depth-p tree. At each node of the tree, the optimal expected win probability can only be computed if that of its children have been computed. At depth-p of the tree, there are no more children to recurse on, as the game is played by p players. At this point, one may compute the expected win probability for each player since all choices are known. \n",
    "\n",
    "We give three in the cells thereafter to illustrate how this function works."
   ]
  },
  {
   "cell_type": "code",
   "execution_count": 6,
   "id": "underlying-refrigerator",
   "metadata": {},
   "outputs": [],
   "source": [
    "def compute_expected_values(n, p, i=0, history = None):\n",
    "    '''\n",
    "    Returns the optimal choice of player i that maximizes their expected win probability given the choice \n",
    "    of all players before player i.\n",
    "    \n",
    "    Inputs:\n",
    "    :param n: Discretization of the interval [0,1] into {0,1,...,n-1}.\n",
    "    :param p: Number of players in the game.\n",
    "    :param i: Player i.\n",
    "    :param history: A list of choices made by players before player i. For example, history[j] is the choice of player j.\n",
    "    \n",
    "    Output:\n",
    "    A dictionary with elements (k,v) where k is a tuple and v is a list. \n",
    "    k[i] denotes the optimal choice for player i, and k[j] is the element chosen by player j, i.e. k[j] = history[j].\n",
    "    k is always of length i.\n",
    "    The value v is a list of expected win probabilities for the p players given the choices in k. \n",
    "    '''\n",
    "    \n",
    "    # If the history is not specified, set history = [] as default.\n",
    "    if history is None:\n",
    "        history = []\n",
    "    \n",
    "    # If player 0 is chosen, we can search for their optimal choice in {0,1,...,floor(n/2)} by symmetry.\n",
    "    # Else, we want to ensure that player i does not choose a value that has already been chosen.\n",
    "    if i == 0:\n",
    "        options = [x for x in range(int(np.floor((n/2))))]\n",
    "    else:\n",
    "        options = [x for x in range(n) if x not in history]\n",
    "        \n",
    "    # Initialize the dictionary selection, which will be the output.\n",
    "    # Initialize the list choices, which will keep track of the number selected by player i.\n",
    "    selection = {}\n",
    "    choices = []\n",
    "    \n",
    "    for option in options:\n",
    "        # For every possible choice for player i, \n",
    "        # update the list of choices made so far\n",
    "        choices = history + [option]\n",
    "        if i == p-1:\n",
    "            # if player i goes last, then we have all choices made by players and hence the expected\n",
    "            # win probability is precisely the win probability. We store this information in the dictionary `selection'\n",
    "            # as a value for the key `choices', where choices is a list of all choices made.\n",
    "            selection[tuple(choices)] = compute_probabilities(choices, n)\n",
    "        else:\n",
    "            # else, player i does not go last. Then their expected win probability depends on the choice\n",
    "            # of the players that go after them. Because of this, compute the optimal solutions chosen\n",
    "            # by the players after.\n",
    "            \n",
    "            # Update the list that keeps track of choices made so far, and find optimal choices for player i+1. \n",
    "            value = compute_expected_values(n, p, i+1, choices)\n",
    "            \n",
    "            # From the optimal choices of player i+1, compute the expected win probability for each of the players \n",
    "            # 0,1,...,p. Keep this information in the dictionary `selection' as a value for the key `choices', where \n",
    "            # the choices is a list keeping track of choices made by players 0,1,...,i.\n",
    "            scores = [probability for x,probability in value.items()]\n",
    "            selection[tuple(choices)] = average_sum_of_lists(scores)\n",
    "    \n",
    "    # Compute the choices for player i that maximizes their expected win probability, and only output such choices \n",
    "    # (together with their probability).\n",
    "    opt_ev = max([x[i] for x in list(selection.values())])\n",
    "    return {k:v for (k,v) in selection.items() if v[i] >= opt_ev}"
   ]
  },
  {
   "cell_type": "markdown",
   "id": "labeled-armstrong",
   "metadata": {},
   "source": [
    "## Examples\n",
    "\n",
    "We give three examples to illustrate compute_expected_values."
   ]
  },
  {
   "cell_type": "markdown",
   "id": "second-ambassador",
   "metadata": {},
   "source": [
    "### Example 1\n",
    "\n",
    "- 10 number discretization of [0,1];\n",
    "- 4 players;\n",
    "- player 0 has chosen 4;\n",
    "\n",
    "Compute optimal choice for player 1."
   ]
  },
  {
   "cell_type": "code",
   "execution_count": 7,
   "id": "maritime-sister",
   "metadata": {},
   "outputs": [
    {
     "name": "stdout",
     "output_type": "stream",
     "text": [
      "Discretization value (n)\t\t: 10\n",
      "Number of players (p)\t\t\t: 4\n",
      "Values chosen by players in [0]\t\t: [4]\n",
      "Adjusted chosen values\t\t\t: [0.44]\n",
      "\n",
      "Optimal choice for player 1\t\t: 7\n",
      "Adjusted optimal choice for player 1\t: 0.78\n",
      "\n",
      "Expected win probability for player 0\t: 0.24\n",
      "Expected win probability for player 1\t: 0.31\n",
      "Expected win probability for player 2\t: 0.29\n",
      "Expected win probability for player 3\t: 0.17\n"
     ]
    }
   ],
   "source": [
    "n = 10\n",
    "p = 4\n",
    "i = 1\n",
    "history = [4]\n",
    "adjusted_history = [round((x/(n-1)), 2) for x in history]\n",
    "\n",
    "score = compute_expected_values(n, p, i, history)\n",
    "print(f'Discretization value (n)\\t\\t: {n}')\n",
    "print(f'Number of players (p)\\t\\t\\t: {p}')\n",
    "print(f'Values chosen by players in {[x for x in range(i)]}\\t\\t: {history}')\n",
    "print(f'Adjusted chosen values\\t\\t\\t: {adjusted_history}\\n')\n",
    "\n",
    "for k, v in score.items():\n",
    "    print(f'Optimal choice for player 1\\t\\t: {k[1]}')\n",
    "    print(f'Adjusted optimal choice for player 1\\t: {(k[1]/(n-1)):.2f}\\n')\n",
    "    for i in range(4):\n",
    "        # Round all expected win probabilities to hundredth place.\n",
    "        print(f'Expected win probability for player {i}\\t: {v[i]:.2f}')"
   ]
  },
  {
   "cell_type": "markdown",
   "id": "ethical-click",
   "metadata": {},
   "source": [
    "### Example 2\n",
    "\n",
    "- 30 number discretization of [0,1];\n",
    "- 4 players;\n",
    "- players 0, 1, 2 have chosen the values 5, 24, 18, respectively.\n",
    "\n",
    "Compute the optimal choice for player 3.\n",
    "\n",
    "In this case, player 3 maximizes their chances by choosing a number from the interval (5, 18). As we have seen from the 3-player variant of the game, it does not matter what value they choose within the interval. This is reflected below as all choices from and including 6 to and including 17 yield the same optimal win probability for player 3.\n",
    "\n",
    "Note that because all four choices of the players are determined at this point, the expected win probability (value) for each of the choices (key) is precisely the win probability."
   ]
  },
  {
   "cell_type": "code",
   "execution_count": 8,
   "id": "crazy-banks",
   "metadata": {},
   "outputs": [
    {
     "name": "stdout",
     "output_type": "stream",
     "text": [
      "Discretization value (n)\t\t: 30\n",
      "Number of players (p)\t\t\t: 4\n",
      "Values chosen by players in [0, 1, 2]\t: [5, 24, 18]\n",
      "Adjusted chosen values\t\t\t: [0.17, 0.83, 0.62]\n",
      "\n",
      "Optimal choices for player 3\t\t: [6, 7, 8, 9, 10, 11, 12, 13, 14, 15, 16, 17]\n",
      "Adjusted optimal choices for player 3\t: [0.21, 0.24, 0.28, 0.31, 0.34, 0.38, 0.41, 0.45, 0.48, 0.52, 0.55, 0.59]\n",
      "Expected win probability for player 3\t: 0.22\n"
     ]
    }
   ],
   "source": [
    "n = 30\n",
    "p = 4\n",
    "i = 3\n",
    "history = [5, 24, 18]\n",
    "adjusted_history = [round((x/(n-1)), 2) for x in history]\n",
    "\n",
    "print(f'Discretization value (n)\\t\\t: {n}')\n",
    "print(f'Number of players (p)\\t\\t\\t: {p}')\n",
    "print(f'Values chosen by players in {[x for x in range(i)]}\\t: {history}')\n",
    "print(f'Adjusted chosen values\\t\\t\\t: {adjusted_history}\\n')\n",
    "\n",
    "score = compute_expected_values(n, p, i, history)\n",
    "\n",
    "optimal_choice_p3 = [x[i] for x in score.keys()]\n",
    "expected_win_probability = [x for x in score.values()]\n",
    "\n",
    "print(f'Optimal choices for player {i}\\t\\t: {optimal_choice_p3}')\n",
    "print(f'Adjusted optimal choices for player {i}\\t: {[round((x/(n-1)), 2) for x in optimal_choice_p3]}')\n",
    "print(f'Expected win probability for player {i}\\t: {expected_win_probability[0][i]:.2f}')"
   ]
  },
  {
   "cell_type": "markdown",
   "id": "caring-steering",
   "metadata": {},
   "source": [
    "### Example 3\n",
    "\n",
    "- 50 number discretization of [0,1];\n",
    "- 3 players;\n",
    "- player 0 has chosen the value 0.\n",
    "\n",
    "Compute the optimal choice for player 1.\n",
    "\n",
    "Note that this solves question 1 of the original 3-player game, where player 0 chooses the value 0. We expect player 1 to choose 2/3."
   ]
  },
  {
   "cell_type": "code",
   "execution_count": 9,
   "id": "aging-carter",
   "metadata": {},
   "outputs": [
    {
     "name": "stdout",
     "output_type": "stream",
     "text": [
      "Discretization value (n)\t\t: 40\n",
      "Number of players (p)\t\t\t: 3\n",
      "Values chosen by players in [0]\t\t: [0]\n",
      "Adjusted chosen values\t\t\t: [0.0]\n",
      "\n",
      "Optimal choice for player 1\t\t: 26\n",
      "Adjusted optimal choice for player 1\t: 0.67\n",
      "Expected win probability for player 0\t: 0.17\n",
      "Expected win probability for player 1\t: 0.50\n",
      "Expected win probability for player 2\t: 0.33\n"
     ]
    }
   ],
   "source": [
    "n = 40\n",
    "p = 3\n",
    "i = 1\n",
    "history = [0]\n",
    "adjusted_history = [round((x/(n-1)), 2) for x in history]\n",
    "\n",
    "score = compute_expected_values(n, p, i, history)\n",
    "\n",
    "print(f'Discretization value (n)\\t\\t: {n}')\n",
    "print(f'Number of players (p)\\t\\t\\t: {p}')\n",
    "print(f'Values chosen by players in {[x for x in range(i)]}\\t\\t: {history}')\n",
    "print(f'Adjusted chosen values\\t\\t\\t: {adjusted_history}\\n')\n",
    "\n",
    "for k, v in score.items():\n",
    "    print(f'Optimal choice for player {i}\\t\\t: {k[1]}')\n",
    "    print(f'Adjusted optimal choice for player {i}\\t: {(k[1]/(n-1)):.2f}')\n",
    "    for i in range(3):\n",
    "        # Round all expected win probabilities to hundredth place.\n",
    "        print(f'Expected win probability for player {i}\\t: {v[i]:.2f}')"
   ]
  },
  {
   "cell_type": "markdown",
   "id": "numerical-binary",
   "metadata": {},
   "source": [
    "# Computing the optimal choice of player 0 in a 4-player game\n",
    "\n",
    "Lastly, to determine the optimal choice of player 0 in the interval [0,1] for a 4-player game, we run the function compute_expected_values on multiple discretization values (20 <= n < 40, chosen arbitrarily). During each iteration, it is possible that player 0 has multiple optimal choices. In that case we take the median of those optimal choices; otherwise, we take the optimal choice. This output is divided by n-1 and stored into a list. Finally, we take the median of the list to estimate an optimal choice for player 0 in the interval [0,1]. In particular, we take the median to account for any outliers that may appear. In the output below, oc and ewp refer to the optimal choice and the expected win probability of player 0."
   ]
  },
  {
   "cell_type": "code",
   "execution_count": 10,
   "id": "fluid-carry",
   "metadata": {},
   "outputs": [
    {
     "name": "stdout",
     "output_type": "stream",
     "text": [
      "n = 20\t oc : [0.16]\t ewp : 0.28\n",
      "n = 21\t oc : [0.15]\t ewp : 0.28\n",
      "n = 22\t oc : [0.19]\t ewp : 0.27\n",
      "n = 23\t oc : [0.18]\t ewp : 0.27\n",
      "n = 24\t oc : [0.17]\t ewp : 0.29\n",
      "n = 25\t oc : [0.17]\t ewp : 0.29\n",
      "n = 26\t oc : [0.16]\t ewp : 0.29\n",
      "n = 27\t oc : [0.15]\t ewp : 0.28\n",
      "n = 28\t oc : [0.19]\t ewp : 0.29\n",
      "n = 29\t oc : [0.18]\t ewp : 0.29\n",
      "n = 30\t oc : [0.17]\t ewp : 0.29\n",
      "n = 31\t oc : [0.17]\t ewp : 0.29\n",
      "n = 32\t oc : [0.16]\t ewp : 0.29\n",
      "n = 33\t oc : [0.16]\t ewp : 0.28\n",
      "n = 34\t oc : [0.18]\t ewp : 0.30\n",
      "n = 35\t oc : [0.18]\t ewp : 0.26\n",
      "n = 36\t oc : [0.14]\t ewp : 0.27\n",
      "n = 37\t oc : [0.17]\t ewp : 0.29\n",
      "n = 38\t oc : [0.16]\t ewp : 0.29\n",
      "n = 39\t oc : [0.16]\t ewp : 0.29\n",
      "\n",
      " The estimated optimal choice for player 0 in the interval [0,1] is 0.16666666666666666, and the median expected win probability is 0.29.\n"
     ]
    }
   ],
   "source": [
    "# Initialize the output lists and specify the number of players p.\n",
    "optimal = []\n",
    "probability = []\n",
    "p = 4\n",
    "\n",
    "for n in range(20, 40):\n",
    "    # For every discretization value n,\n",
    "    # Initialize a list to keep track of player 0's optimal choices.\n",
    "    optimal_a = []\n",
    "    \n",
    "    # Compute the optimal choice of player 0 for n.\n",
    "    optimal_score = compute_expected_values(n, p)\n",
    "    \n",
    "    # For every optimal choice of player 0, divide the choice by n-1 to obtain a value in [0,1], and store these in a list.\n",
    "    optimal_a = [item[0]/(n-1) for item in optimal_score]\n",
    "    \n",
    "    # Store the median value into the global list optimal.\n",
    "    optimal.append(np.median(optimal_a))\n",
    "    \n",
    "    # Store every value of dictionary optimal_score in a list.\n",
    "    optimal_prob = [v for v in optimal_score.values()]\n",
    "    \n",
    "    # Store the expected win probability for player 0 in a global list.\n",
    "    probability.append(optimal_prob[0][0])\n",
    "    \n",
    "    # Print the optimal choice (oc) and expected win probability (ewp) of player 0.\n",
    "    print(f'n = {n}\\t oc : {[round(item,2) for item in optimal_a]}\\t ewp : {optimal_prob[0][0]:.2f}')          \n",
    "\n",
    "print(f'\\n The estimated optimal choice for player 0 in the interval [0,1] is {np.median(optimal)}, and the median expected win probability is {np.median(probability):.2f}.')"
   ]
  },
  {
   "cell_type": "markdown",
   "id": "fitted-leone",
   "metadata": {},
   "source": [
    "# Computing the optimal choice of player 0 in a 3-player game\n",
    "\n",
    "Because the function compute_expected_values generalizes to p players, we may in particular estimate the optimal choice of player 0 in the interval [0,1] for a 3-player game. We employ the same procedure as done for the 4-player variant.\n",
    "\n",
    "We see that this does indeed confirm our optimal choice for player 0 of 0.25 (and 0.75), together with their expected win probability of around 3/8. Using notation from the above cell, oc and ewp refer now to the optimal choice(s) and the expected win probability for player 2."
   ]
  },
  {
   "cell_type": "code",
   "execution_count": 11,
   "id": "integral-short",
   "metadata": {},
   "outputs": [
    {
     "name": "stdout",
     "output_type": "stream",
     "text": [
      "n = 30\t oc : [0.24]\t ewp : 0.37\n",
      "n = 31\t oc : [0.27]\t ewp : 0.38\n",
      "n = 32\t oc : [0.26]\t ewp : 0.38\n",
      "n = 33\t oc : [0.25]\t ewp : 0.38\n",
      "n = 34\t oc : [0.24]\t ewp : 0.37\n",
      "n = 35\t oc : [0.26]\t ewp : 0.38\n",
      "n = 36\t oc : [0.26]\t ewp : 0.38\n",
      "n = 37\t oc : [0.25]\t ewp : 0.37\n",
      "n = 38\t oc : [0.24]\t ewp : 0.37\n",
      "n = 39\t oc : [0.26]\t ewp : 0.38\n",
      "n = 40\t oc : [0.26]\t ewp : 0.38\n",
      "n = 41\t oc : [0.25]\t ewp : 0.38\n",
      "n = 42\t oc : [0.24]\t ewp : 0.37\n",
      "n = 43\t oc : [0.26]\t ewp : 0.38\n",
      "n = 44\t oc : [0.26]\t ewp : 0.38\n",
      "n = 45\t oc : [0.25]\t ewp : 0.37\n",
      "n = 46\t oc : [0.24]\t ewp : 0.37\n",
      "n = 47\t oc : [0.26]\t ewp : 0.38\n",
      "n = 48\t oc : [0.26]\t ewp : 0.38\n",
      "n = 49\t oc : [0.25]\t ewp : 0.38\n",
      "\n",
      " The estimated optimal choice for player 0 in the interval [0,1] is 0.2527, and the median expected win probability is 0.38.\n"
     ]
    }
   ],
   "source": [
    "# Initialize the output lists and specify the number of players p.\n",
    "optimal = []\n",
    "probability = []\n",
    "p = 3\n",
    "\n",
    "for n in range(30,50):\n",
    "    # For every discretization value n,\n",
    "    # Initialize a list to keep track of player 0's optimal choices.\n",
    "    optimal_a = []\n",
    "    \n",
    "    # Compute the optimal choice of player 0 for n.\n",
    "    optimal_score = compute_expected_values(n, p)\n",
    "    \n",
    "    # For every optimal choice of player 0, divide the choice by n-1 to obtain a value in [0,1], and store these in a list.\n",
    "    optimal_a = [item[0]/(n-1) for item in optimal_score]\n",
    "    \n",
    "    # Store the median value into the global list optimal.\n",
    "    optimal.append(np.median(optimal_a))\n",
    "    \n",
    "    # Store every value of dictionary optimal_score in a list.\n",
    "    optimal_prob = [v for v in optimal_score.values()]\n",
    "    \n",
    "    # Store the expected win probability for player 0 in a global list.\n",
    "    probability.append(optimal_prob[0][0])\n",
    "    \n",
    "    # Print the optimal choice (oc) and expected win probability (ewp) of player 0.\n",
    "    print(f'n = {n}\\t oc : {[round(item,2) for item in optimal_a]}\\t ewp : {optimal_prob[0][0]:.2f}')          \n",
    "\n",
    "print(f'\\n The estimated optimal choice for player 0 in the interval [0,1] is {np.median(optimal):.4f}, and the median expected win probability is {np.median(probability):.2f}.')"
   ]
  }
 ],
 "metadata": {
  "kernelspec": {
   "display_name": "Python 3",
   "language": "python",
   "name": "python3"
  },
  "language_info": {
   "codemirror_mode": {
    "name": "ipython",
    "version": 3
   },
   "file_extension": ".py",
   "mimetype": "text/x-python",
   "name": "python",
   "nbconvert_exporter": "python",
   "pygments_lexer": "ipython3",
   "version": "3.9.1"
  }
 },
 "nbformat": 4,
 "nbformat_minor": 5
}
